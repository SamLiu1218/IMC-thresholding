{
 "cells": [
  {
   "cell_type": "markdown",
   "metadata": {},
   "source": [
    "# IMC Thresholding.\n",
    "\n",
    "This is an interactive tool to manually set the tresholds for each IMC channels.\n",
    "\n",
    "You should set up the data to load, and if necessary, some custom functions"
   ]
  },
  {
   "cell_type": "code",
   "execution_count": 1,
   "metadata": {},
   "outputs": [],
   "source": [
    "import pandas as pd\n",
    "import numpy as np\n",
    "import matplotlib.pyplot as plt\n",
    "from PIL import Image\n",
    "import pickle\n",
    "import ipywidgets as widgets\n",
    "from IPython.display import display\n",
    "import os\n",
    "from helper_functions import *\n",
    "import app"
   ]
  },
  {
   "cell_type": "markdown",
   "metadata": {},
   "source": [
    "### Load data\n",
    "Load your data here. Change ['im'] to what suits your data."
   ]
  },
  {
   "cell_type": "code",
   "execution_count": 2,
   "metadata": {},
   "outputs": [],
   "source": [
    "picklename = 'eg_data.p'\n",
    "data = pickle.load(open(picklename,'rb'))\n",
    "\n",
    "fn_ls = list(data.keys())\n",
    "markers = list(data[fn_ls[0]]['im'].keys())\n",
    "\n",
    "## log normalization if not done yet\n",
    "# for fn in data.keys():\n",
    "#     for m in data[list(data.keys())[0]]['im'].keys():\n",
    "#         data[fn]['im'][m] = np.log(data[fn]['im'][m]+1)"
   ]
  },
  {
   "cell_type": "markdown",
   "metadata": {},
   "source": [
    "#### Output directory"
   ]
  },
  {
   "cell_type": "code",
   "execution_count": 3,
   "metadata": {},
   "outputs": [],
   "source": [
    "# output directory\n",
    "outdir = 'preprocessing'\n",
    "os.makedirs(outdir, exist_ok=True)"
   ]
  },
  {
   "cell_type": "markdown",
   "metadata": {},
   "source": [
    "#### Load previous thresholds\n",
    "If you have previous threshold, load them as pandas dataframe here, where index = ROIs and columns = markers.\n",
    "\n",
    " Otherwise, leave them as None."
   ]
  },
  {
   "cell_type": "code",
   "execution_count": 4,
   "metadata": {},
   "outputs": [
    {
     "name": "stdout",
     "output_type": "stream",
     "text": [
      "       CD3  CD68  Melanoma  DNA1  CD45\n",
      "roi4  3.72   NaN       NaN   NaN   NaN\n",
      "roi6   NaN   NaN       NaN   NaN   NaN\n"
     ]
    }
   ],
   "source": [
    "cmins_table = None\n",
    "cmaxs_table = None\n",
    "try:\n",
    "    cmins_table = pd.read_csv(os.path.join(outdir,'cmins.csv'), index_col=0)\n",
    "    cmaxs_table = pd.read_csv(os.path.join(outdir,'cmaxs.csv'), index_col=0) \n",
    "    print(cmins_table)\n",
    "except:\n",
    "    pass"
   ]
  },
  {
   "cell_type": "markdown",
   "metadata": {},
   "source": [
    "In the example, the CD3 channel of roi4 has been thresholded. Therefore the app will load the thresholds for this channel. "
   ]
  },
  {
   "cell_type": "markdown",
   "metadata": {},
   "source": [
    "### Custom functions\n",
    "Modify these functions based on your data type or data structure.\n",
    "\n",
    "Add preprocessing steps in readchannel(), and postprocessing steps in savetiff()."
   ]
  },
  {
   "cell_type": "code",
   "execution_count": 5,
   "metadata": {},
   "outputs": [],
   "source": [
    "def readchannel(fn, m, data=data, p=99):\n",
    "    ''' Read the channel {m} for image {fn} and cap it at {p} percentile. '''\n",
    "    im = data[fn]['im'][m]\n",
    "    im[im > np.percentile(nonzero(im), p)] =  np.percentile(nonzero(im), p)\n",
    "    return im\n",
    "\n",
    "def savetiff(fn, m, im, cmin, cmax, outdir):\n",
    "    '''Save current channel as {outdir}/{fn}/{m}.tiff. '''\n",
    "\n",
    "    im = im.copy()\n",
    "\n",
    "    ## threshold with cmin\n",
    "    im[im < cmin] = 0\n",
    "    \n",
    "    ## cap with cmax\n",
    "    im[im > cmax] = cmax\n",
    "    \n",
    "    ## to normalize to (0,1) by cmax:\n",
    "    # im = im/max(cmax, 1e-6)\n",
    "\n",
    "    ## output\n",
    "    os.makedirs(os.path.join(outdir, fn), exist_ok=True)\n",
    "    Image.fromarray(im).save(os.path.join(outdir, fn, f\"{m}.tiff\"))\n",
    "    "
   ]
  },
  {
   "cell_type": "markdown",
   "metadata": {},
   "source": [
    "## App\n",
    "(You should fold this.)"
   ]
  },
  {
   "cell_type": "code",
   "execution_count": 6,
   "metadata": {},
   "outputs": [
    {
     "data": {
      "application/vnd.jupyter.widget-view+json": {
       "model_id": "e31fee84fff8436eaf08a2d101a972e0",
       "version_major": 2,
       "version_minor": 0
      },
      "text/plain": [
       "VBox(children=(GridspecLayout(children=(Tab(children=(Image(value=b''), Image(value=b''), Image(value=b'')), l…"
      ]
     },
     "metadata": {},
     "output_type": "display_data"
    }
   ],
   "source": [
    "import app\n",
    "gui = app.ThresholdGUI(\n",
    "    data = data, \n",
    "    fn_ls = fn_ls, \n",
    "    markers = markers, \n",
    "    outdir = outdir, \n",
    "    func_dict = {'readchannel':readchannel, 'savetiff':savetiff}, \n",
    "    cmins_table = cmins_table, \n",
    "    cmaxs_table = cmaxs_table\n",
    "    )"
   ]
  }
 ],
 "metadata": {
  "interpreter": {
   "hash": "be8cd8ecf1b89f58bf6371c59f3179339c749af2799dde43d6dd20b5ce33b830"
  },
  "kernelspec": {
   "display_name": "Python 3.8.5 ('base')",
   "language": "python",
   "name": "python3"
  },
  "language_info": {
   "codemirror_mode": {
    "name": "ipython",
    "version": 3
   },
   "file_extension": ".py",
   "mimetype": "text/x-python",
   "name": "python",
   "nbconvert_exporter": "python",
   "pygments_lexer": "ipython3",
   "version": "3.8.5"
  },
  "orig_nbformat": 4
 },
 "nbformat": 4,
 "nbformat_minor": 2
}
