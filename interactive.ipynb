{
 "cells": [
  {
   "cell_type": "code",
   "execution_count": 1,
   "metadata": {},
   "outputs": [
    {
     "name": "stdout",
     "output_type": "stream",
     "text": [
      "all markers:\n",
      "['131Xe', '134Xe', '173Yb', '209Bi', '80ArAr', 'B7-H4', 'CD11b', 'CD11c', 'CD14', 'CD15', 'CD16', 'CD19-CD20', 'CD3', 'CD31', 'CD33', 'CD4', 'CD45', 'CD45RA', 'CD45RO', 'CD56', 'CD68', 'CD74', 'CD80', 'CD8a', 'Collagen-I', 'DNA1', 'DNA3', 'Epcam+E-Cadherin', 'HLA-ABC', 'HLA-DR', 'IL-1b', 'Ki67', 'Krt8-18', 'MITF', 'MX1', 'Melanoma', 'None', 'PD-1', 'PD-L1', 'Tryptase', 'Vimentin', 'aSMA']\n",
      "\n",
      "Markers used:\n",
      "['B7-H4', 'CD11b', 'CD11c', 'CD14', 'CD15', 'CD19-CD20', 'CD3', 'CD31', 'CD33', 'CD4', 'CD45', 'CD45RA', 'CD45RO', 'CD56', 'CD68', 'CD74', 'CD8a', 'Collagen-I', 'DNA1', 'Epcam+E-Cadherin', 'HLA-ABC', 'HLA-DR', 'Ki67', 'Melanoma', 'aSMA']\n",
      "25\n"
     ]
    }
   ],
   "source": [
    "from PIL import Image, ImageSequence, ImageFont, ImageDraw\n",
    "from PIL.TiffTags import TAGS\n",
    "import os\n",
    "import numpy as np\n",
    "from matplotlib import pyplot as plt\n",
    "import matplotlib.gridspec as gridspec\n",
    "import pickle\n",
    "import pandas as pd\n",
    "import cv2\n",
    "from skimage.filters import threshold_otsu\n",
    "import copy\n",
    "from skimage.measure import label\n",
    "from skimage import morphology as morph\n",
    "import zut\n",
    "import CombineColors as CC\n",
    "from ipywidgets import widgets\n",
    "from matplotlib.cm import get_cmap\n",
    "from IPython.display import display\n",
    "from ipyevents import Event \n",
    "import io\n",
    "\n",
    "def nonzero(im):\n",
    "    r = np.ravel(im)\n",
    "    return r[r>0]\n",
    "\n",
    "dataset = 'JIE_melanoma'\n",
    "project_base = f'/Users/liuzi/Documents/IMC/{dataset}/'\n",
    "os.chdir(project_base)\n",
    "if not os.path.isdir('processing'):\n",
    "    os.mkdir('processing')\n",
    "\n",
    "rawdata = pickle.load(open(f'data/raw_1.p','rb'))\n",
    "fn_ls = list(rawdata.keys())\n",
    "\n",
    "fn = fn_ls[0]\n",
    "markers = list(rawdata[fn]['im'].keys())\n",
    "print('all markers:')\n",
    "print(markers)\n",
    "markers_used = [\n",
    "    'CD3', 'Ki67','DNA1','CD68','Melanoma'\n",
    "]\n",
    "markers_used = markers_used + [\n",
    "    'aSMA', # epithelial (Smooth muscle alpha-actin)\n",
    "    'B7-H4', # TAM, co-inhibitory factor inhibiting CD4+ and CD8+ T-cell proliferation\n",
    "    'CD4', 'CD8a', # T sub\n",
    "    'CD14', # DC\n",
    "    'CD11b', # myeloid\n",
    "    'CD11c', # DC\n",
    "    'CD15', # neutrophil\n",
    "    'CD56', # NK\n",
    "    'CD19-CD20', # B cells\n",
    "    # # 'CD16', \n",
    "    'CD31', # endothelial\n",
    "    'CD33', # myeloid\n",
    "    'CD45', 'CD45RO','CD45RA', # pan immune\n",
    "    'CD74', # chaperone of HLA-DR\n",
    "    # # 'CD80', \n",
    "    'Collagen-I', \n",
    "    'Epcam+E-Cadherin', # melanoma\n",
    "    'HLA-ABC', \n",
    "    'HLA-DR', # APC\n",
    "    # # 'IL-1b', ?\n",
    "    # # 'Krt8-18', ? \n",
    "    # # 'MITF', # melanoma\n",
    "    # # 'MX1', \n",
    "    # # 'PD-1', \n",
    "    # # 'PD-L1', \n",
    "    # # 'Tryptase', \n",
    "    # # 'Vimentin'\n",
    "\n",
    "]\n",
    "markers_used = np.unique([m for m in markers_used if m in markers])\n",
    "print('\\nMarkers used:')\n",
    "print(sorted(markers_used))\n",
    "print(len(markers_used))\n",
    "\n",
    "fn_ls_good = ['roi' + str(i) for i in [4, 6, 10, 12, 15, 17, 20]]\n",
    "fn_ls_fine = ['roi' + str(i) for i in [19, 22, 24, 27]]\n",
    "fn_ls = fn_ls_good + fn_ls_fine\n",
    "\n",
    "data = pickle.load(open('data/data.p', 'rb'))\n",
    "cell_df = pickle.load(open('data/cell_df.p','rb'))\n",
    "\n",
    "# log normalization and remove lowest bin in histogram\n",
    "for fn in fn_ls:\n",
    "    for m in markers_used:\n",
    "        im = np.log(rawdata[fn]['im'][m] + 1)\n",
    "        h = np.histogram(nonzero(im),bins=64)\n",
    "        im [im < h[1][np.argmax(h[0])+1]] = 0\n",
    "        data[fn]['im'][m] = im"
   ]
  },
  {
   "cell_type": "code",
   "execution_count": 2,
   "metadata": {},
   "outputs": [],
   "source": [
    "\n",
    "\n",
    "def readchannel(data, fn, m, p=99):\n",
    "    ''''Read a channel and cap at p percentile'''\n",
    "    im = data[fn]['im'][m]\n",
    "    im = np.where(im > np.percentile(nonzero(im) , p), np.percentile(nonzero(im) , p), im)\n",
    "    return im\n",
    "\n",
    "def uint(x):\n",
    "    return (np.array(x)*255).astype('uint8')\n",
    "\n",
    "def addHist(Im, mat, t1=None, t2 =None):\n",
    "    '''Add a tiny pixel histogram of array mat at the cornor of an image Im. '''\n",
    "    Im = Im.copy()\n",
    "    nn_nonzero = nonzero(mat)\n",
    "    plt.rc('xtick', labelsize=10) \n",
    "    fig = plt.figure(facecolor=(1,1,1), figsize=(1.5,1))\n",
    "    plt.hist(nn_nonzero, bins = 40)\n",
    "    if t1:\n",
    "        plt.axvline(t1, c = (1, 0, 0))\n",
    "    if t2:\n",
    "        plt.axvline(t2, c = (0, 1, 0))\n",
    "\n",
    "    plt.tick_params(axis='both', which='both', top=False,\n",
    "                        bottom=True, left=False, right=False,\n",
    "                        labelbottom=True, labelleft=False)\n",
    "    plt.tight_layout()\n",
    "    fig.canvas.draw()\n",
    "    Image.frombytes('RGB', \n",
    "    fig.canvas.get_width_height(),fig.canvas.tostring_rgb())\n",
    "    fig_hist = Image.frombytes('RGB', \n",
    "        fig.canvas.get_width_height(),fig.canvas.tostring_rgb())\n",
    "    plt.close()\n",
    "    Im.paste(fig_hist, (0, int(Im.size[1]*0.92 - fig_hist.size[1]*0.9)))\n",
    "    return Im\n",
    "\n",
    "def plotcellmean(im, cellmasks,  cmap='turbo'):\n",
    "    p = 99\n",
    "    cm = get_cmap(cmap)\n",
    "    cell_dict = {}\n",
    "\n",
    "    cellnum = np.max(cellmasks) \n",
    "    im_c = np.zeros_like(im)\n",
    "    for cell_id in np.arange(1, cellnum+1):\n",
    "        cellmask_cur=1*(cellmasks==cell_id)\n",
    "        cellarea = np.sum(cellmask_cur)  \n",
    "        cell_dict[cell_id] = np.sum(cellmask_cur*im)/cellarea\n",
    "    cellvalues = np.array(list(cell_dict.values()))\n",
    "    cellvalues = np.where(cellvalues > np.percentile(nonzero(cellvalues) , p), np.percentile(nonzero(cellvalues) , p), cellvalues)\n",
    "    \n",
    "    im = np.zeros((im.shape[0], im.shape[1], 3))\n",
    "    \n",
    "    for cell_id in np.arange(1, cellnum+1):\n",
    "        im_c[cellmasks==cell_id] = cellvalues[cell_id-1]/max(np.max(cellvalues), 0.00001)\n",
    "\n",
    "    c_df = pd.DataFrame(im_c)\n",
    "    c_df = c_df.stack().reset_index()\n",
    "\n",
    "    for j in [0,1,2]:\n",
    "        im[c_df.iloc[:,0], c_df.iloc[:,1], j] = cm(c_df.iloc[:,2])[:,j]\n",
    "    Im = Image.fromarray(uint(im))\n",
    "\n",
    "    cm = get_cmap(cmap)\n",
    "    Im = CC.add_legend(Im, {f\"{c*np.max(cellvalues):.1f}\":tuple(uint(cm(c)[0:3])) for c in np.array([0.25, 0.5, 0.75, 1.0])})\n",
    "    Im = addHist(Im, cellvalues)\n",
    "    return Im\n",
    "\n",
    "def plotpixelvalue(data, fn, m, t, cmax, showdna = True, showfiltered = True):\n",
    "    im = readchannel(data, fn, m)\n",
    "    im_b = readchannel(data, fn, 'DNA1')\n",
    "    im_out = im.copy()\n",
    "    im_out[im > t] =0\n",
    "    im_r = im.copy()\n",
    "    im_r[im_r < t] = 0\n",
    "    im_r = im_r/max(cmax, 0.001)\n",
    "    im_r[im_r > 1] = 1\n",
    "    pd = {f'{m}_pass':im_r}\n",
    "    cd = {f'{m}_pass':'red'}\n",
    "    if showdna:\n",
    "        pd['DNA1'] = im_b\n",
    "        cd['DNA1'] = 'blue'\n",
    "    if showfiltered:\n",
    "        pd[f'{m}_out'] = im_out\n",
    "        cd[f'{m}_out'] = 'green'\n",
    "    Im = CC.CombineColor(\n",
    "        pd,\n",
    "        cd,\n",
    "        mode='add',\n",
    "        palette={'red':(255,0,0), 'grey':(122,122,122), 'blue':(0,0,255), 'green':(0,255,0)}\n",
    "    )\n",
    "    Im = addHist(Im, im, t1 = t, t2 = cmax)\n",
    "    return Im"
   ]
  },
  {
   "cell_type": "code",
   "execution_count": 3,
   "metadata": {},
   "outputs": [],
   "source": [
    "# # Segmentation\n",
    "\n",
    "# from deepcell.applications import Mesmer\n",
    "# import skimage.morphology as morph\n",
    "# app = Mesmer()\n",
    "\n",
    "# dna_marker = 'DNA1'\n",
    "# mem_markers = ['CD45','HLA-ABC','HLA-DR','Melanoma']\n",
    "\n",
    "# for fn in fn_ls:\n",
    "\n",
    "#     data[fn]['mask'] = {}\n",
    "#     im_dna = readchannel(data, fn, dna_marker)\n",
    "#     im_mem = np.max(np.dstack([readchannel(data, fn, m) for m in mem_markers]), axis=2)\n",
    "\n",
    "\n",
    "#     im_mesmer = np.dstack([im_dna, im_mem])\n",
    "#     im_mesmer = im_mesmer[np.newaxis,:,:]\n",
    "#     cmask = app.predict(im_mesmer)\n",
    "\n",
    "#     print(f'{fn}: {np.max(cmask)} cells.')\n",
    "#     cellmask = cmask[0,:,:,0]\n",
    "#     kernel = np.array([[0,1,0],[1,1,1],[0,1,0]])\n",
    "\n",
    "#     cell_n = np.max(cellmask)\n",
    "#     inner_mask = np.zeros(np.shape(cellmask))\n",
    "#     bound_mask = np.zeros(np.shape(cellmask))\n",
    "#     for cell_id in range(1, cell_n):\n",
    "#         cellmask_cur = cellmask == cell_id\n",
    "#         innermask_cur = morph.binary_erosion(cellmask_cur, kernel)\n",
    "#         boundmask_cur = cellmask_cur ^ innermask_cur\n",
    "#         inner_mask = inner_mask + cell_id * innermask_cur\n",
    "#         bound_mask = bound_mask + cell_id * boundmask_cur\n",
    "#     data[fn]['mask']['cellmask'] = cellmask\n",
    "#     data[fn]['mask']['inner'] = inner_mask\n",
    "#     data[fn]['mask']['bound'] = bound_mask"
   ]
  },
  {
   "cell_type": "code",
   "execution_count": 4,
   "metadata": {},
   "outputs": [],
   "source": [
    "def investigate(data, fn, m, t, cmax, showdna, showfiltered):\n",
    "    fig = plt.figure(facecolor=(1,1,1), figsize=(30,18))\n",
    "    plt.subplot(121)\n",
    "    plt.imshow(plotpixelvalue(data, fn, m, t, cmax, showdna, showfiltered))\n",
    "    plt.title('Pixels')\n",
    "    zut.axisoff()\n",
    "    \n",
    "    im = readchannel(data, fn, m)\n",
    "    im[im<t] = 0\n",
    "    im[im>cmax]=cmax\n",
    "    plt.subplot(122)\n",
    "    plt.imshow(plotcellmean(im, data[fn]['mask']['cellmask'],  cmap='inferno'))\n",
    "    plt.title('Cells')\n",
    "    zut.axisoff()\n",
    "\n",
    "    plt.suptitle(f\"{fn}, {m}, t={t:.3f}, cmax={cmax:.3f}\")\n",
    "\n",
    "    plt.tight_layout()\n",
    "    return fig\n",
    "\n",
    "def showhist(data, fn, m, t, cmax):\n",
    "    mat = readchannel(data, fn, m)\n",
    "    nn_nonzero = nonzero(mat)\n",
    "    plt.rc('xtick', labelsize=10) \n",
    "    fig = plt.figure(facecolor=(1,1,1), figsize=(5,1))\n",
    "    plt.hist(nn_nonzero, bins = 40)\n",
    "    if t:\n",
    "        plt.axvline(t, c = (1, 0, 0))\n",
    "    if cmax:\n",
    "        plt.axvline(cmax, c = (0, 1, 0))\n",
    "\n",
    "    plt.tick_params(axis='both', which='both', top=False,\n",
    "                        bottom=True, left=False, right=False,\n",
    "                        labelbottom=True, labelleft=False)\n",
    "    plt.tight_layout()"
   ]
  },
  {
   "cell_type": "code",
   "execution_count": 5,
   "metadata": {},
   "outputs": [
    {
     "name": "stderr",
     "output_type": "stream",
     "text": [
      "/Users/liuzi/opt/anaconda3/lib/python3.8/site-packages/traitlets/traitlets.py:586: FutureWarning: elementwise comparison failed; returning scalar instead, but in the future will perform elementwise comparison\n",
      "  silent = bool(old_value == new_value)\n"
     ]
    }
   ],
   "source": [
    "fndrop = widgets.Dropdown(options = fn_ls)\n",
    "mdrop = widgets.Dropdown(options = markers_used)\n",
    "tslide = widgets.FloatSlider(label='t',value=0, min=0, max=4, step=0.01, continuous_update=False)\n",
    "cmaxslide = widgets.FloatSlider(label='cmax', value=4, min=0, max=4, step=0.01, continuous_update=False)\n",
    "dnacheck = widgets.Checkbox(True, description='show DNA channel')\n",
    "filteredcheck = widgets.Checkbox(True, description='show filtered-out pixels')\n",
    "\n",
    "\n",
    "def changemax(*args):\n",
    "    tslide.max = np.max(readchannel(data,fndrop.value, mdrop.value))\n",
    "    tslide.value = 0.0\n",
    "    cmaxslide.max = np.max(readchannel(data,fndrop.value, mdrop.value))\n",
    "    cmaxslide.value = cmaxslide.max\n",
    "\n",
    "fndrop.observe(changemax)\n",
    "mdrop.observe(changemax)\n",
    "hb1 = widgets.HBox((fndrop, mdrop))\n",
    "hb2 = widgets.HBox((tslide, cmaxslide))\n",
    "vb = widgets.VBox((hb1, hb2))\n",
    "fndrop.value = 'roi4'\n",
    "mdrop.value = 'CD3'\n",
    "# w = widgets.interactive(investigate, \n",
    "#     data=widgets.fixed(data), fn=fndrop, m=mdrop, t=tslide, cmax=cmaxslide, __manual=True)"
   ]
  },
  {
   "cell_type": "code",
   "execution_count": 6,
   "metadata": {},
   "outputs": [
    {
     "data": {
      "application/vnd.jupyter.widget-view+json": {
       "model_id": "fd78dc56c63044c29792f0fd2efe9097",
       "version_major": 2,
       "version_minor": 0
      },
      "text/plain": [
       "Output()"
      ]
     },
     "metadata": {},
     "output_type": "display_data"
    }
   ],
   "source": [
    "widgets.interactive_output(investigate, \n",
    "    {'data':widgets.fixed(data),'fn':fndrop, 'm':mdrop, 't':tslide, 'cmax':cmaxslide, 'showdna':dnacheck, 'showfiltered':filteredcheck})\n"
   ]
  },
  {
   "cell_type": "code",
   "execution_count": 7,
   "metadata": {},
   "outputs": [
    {
     "data": {
      "application/vnd.jupyter.widget-view+json": {
       "model_id": "da52cfb6d70340398be92bf2687e9605",
       "version_major": 2,
       "version_minor": 0
      },
      "text/plain": [
       "VBox(children=(HBox(children=(Dropdown(options=('roi4', 'roi6', 'roi10', 'roi12', 'roi15', 'roi17', 'roi20', '…"
      ]
     },
     "metadata": {},
     "output_type": "display_data"
    },
    {
     "data": {
      "application/vnd.jupyter.widget-view+json": {
       "model_id": "fe9f3f1e02b34ad9ab86340274712a89",
       "version_major": 2,
       "version_minor": 0
      },
      "text/plain": [
       "HBox(children=(Checkbox(value=True, description='show DNA channel'), Checkbox(value=True, description='show fi…"
      ]
     },
     "metadata": {},
     "output_type": "display_data"
    },
    {
     "data": {
      "application/vnd.jupyter.widget-view+json": {
       "model_id": "ec796d85bb7047eb863c176d10bd4ec6",
       "version_major": 2,
       "version_minor": 0
      },
      "text/plain": [
       "Output()"
      ]
     },
     "metadata": {},
     "output_type": "display_data"
    }
   ],
   "source": [
    "{\n",
    "    \"tags\": [\n",
    "        \"hide_input\",\n",
    "    ]\n",
    "}\n",
    "display(vb, widgets.HBox((dnacheck, filteredcheck)))\n",
    "# widgets.interactive(showhist, data=widgets.fixed(data), fn=fndrop, m=mdrop, t=tslide, cmax=cmaxslide)\n",
    "widgets.interactive_output(showhist, \n",
    "    {'data':widgets.fixed(data),'fn':fndrop, 'm':mdrop, 't':tslide, 'cmax':cmaxslide})\n"
   ]
  },
  {
   "cell_type": "code",
   "execution_count": 36,
   "metadata": {},
   "outputs": [
    {
     "data": {
      "text/plain": [
       "0.0"
      ]
     },
     "execution_count": 36,
     "metadata": {},
     "output_type": "execute_result"
    }
   ],
   "source": []
  },
  {
   "cell_type": "code",
   "execution_count": 65,
   "metadata": {},
   "outputs": [
    {
     "data": {
      "text/plain": [
       "<ipywidgets.widgets.interaction._InteractFactory at 0x7fd95ffc15e0>"
      ]
     },
     "metadata": {},
     "output_type": "display_data"
    }
   ],
   "source": [
    "# to save the figure\n",
    "\n",
    "fn = fndrop.value\n",
    "m = mdrop.value\n",
    "t = tslide.value\n",
    "cmax = cmaxslide.value\n",
    "fig = investigate(data, fn, m, t, cmax, dnacheck.value, filteredcheck.value)\n",
    "plt.savefig(f\"{fn}_{m}_{t:.2}_{cmax:.2}.png\")\n",
    "plt.close()"
   ]
  },
  {
   "cell_type": "code",
   "execution_count": 13,
   "metadata": {},
   "outputs": [],
   "source": [
    "import io\n",
    "\n",
    "def findcellid(cellmask, x, y):\n",
    "    return cellmask[x, y]\n",
    "\n",
    "def showcellloc(boundmask, cell_id):\n",
    "    bound_all = np.where(data[fn]['mask']['bound']>0, 1, 0) \n",
    "    if cell_id > 0:\n",
    "        bound_cur = np.where(data[fn]['mask']['bound']==cell_id, 1, 0) \n",
    "        Im = CC.CombineColor({'all':bound_all, 'cur':bound_cur}, ['w', 'r'],addlegend=False )\n",
    "    else:\n",
    "        Im = CC.CombineColor({'all':bound_all}, ['w'],addlegend=False )\n",
    "    return Im\n",
    "\n",
    "def Im2Bytes(Im):\n",
    "    img_byte_arr = io.BytesIO()\n",
    "    Im.save(img_byte_arr, format='PNG')\n",
    "    img_byte_arr = img_byte_arr.getvalue()\n",
    "    return img_byte_arr"
   ]
  },
  {
   "cell_type": "code",
   "execution_count": null,
   "metadata": {},
   "outputs": [],
   "source": [
    "\n",
    "def cell_level_class(data, cell_df, fn, level, m = None, label = None,cmap='inferno'):\n",
    "    cm = get_cmap(cmap)\n",
    "    df = cell_df.loc[cell_df['Image']==fn, ['Cell',level ]]\n",
    "    cellmask = data[fn]['mask']['cellmask']\n",
    "    im = np.zeros((cellmask.shape[0], cellmask.shape[1], 3))\n",
    "    legend_dict = {}\n",
    "\n",
    "    if m:\n",
    "        df[f'{m}_ave'] = cell_df.loc[cell_df['Image']==fn, f'{m}_ave']\n",
    "\n",
    "        im_c = np.zeros_like(cellmask, dtype=float)\n",
    "        for cell_id in df['Cell']:\n",
    "            im_c[cellmask==cell_id] = df.loc[df['Cell']==cell_id, f'{m}_ave']/max(np.max(df[f'{m}_ave']), 0.00001)\n",
    "    \n",
    "        c_df = pd.DataFrame(im_c)\n",
    "        c_df = c_df.stack().reset_index()\n",
    "\n",
    "        legend_dict[f'{m}_low'] = tuple(uint(cm(0.35)[0:3]))\n",
    "        legend_dict[f'{m}_high'] = tuple(uint(cm(0.85)[0:3]))\n",
    "\n",
    "        for j in [0,1,2]:\n",
    "            im[c_df.iloc[:,0], c_df.iloc[:,1], j] = cm(c_df.iloc[:,2])[:,j]\n",
    "    im = uint(im)\n",
    "\n",
    "    if label:\n",
    "        boundcolor = (0, 255, 255)\n",
    "        boundmask = data[fn]['mask']['bound']\n",
    "        cell_toshow = df.loc[df[level]==label, 'Cell']\n",
    "        if len(cell_toshow)>0:\n",
    "            im_bound = np.any(np.dstack([boundmask == i for i in cell_toshow]), axis=2)\n",
    "            for j in [0,1,2]:\n",
    "                im[im_bound,j] = boundcolor[j]\n",
    "        legend_dict[f'{level}={label}:{len(cell_toshow)}'] = boundcolor\n",
    "\n",
    "    Im = Image.fromarray(im)\n",
    "    Im = CC.add_legend(Im, legend_dict)\n",
    "    # plt.figure(facecolor=(1,1,1), figsize=(7,7))\n",
    "    # plt.imshow(Im)\n",
    "    # plt.title('Cell values')\n",
    "    # zut.axisoff()"
   ]
  },
  {
   "cell_type": "code",
   "execution_count": 15,
   "metadata": {},
   "outputs": [
    {
     "data": {
      "application/vnd.jupyter.widget-view+json": {
       "model_id": "3fe43e69f73a4f9fbbc056f87e61153d",
       "version_major": 2,
       "version_minor": 0
      },
      "text/plain": [
       "VBox(children=(Image(value=b'\\x89PNG\\r\\n\\x1a\\n\\x00\\x00\\x00\\rIHDR\\x00\\x00\\x02\\xeb\\x00\\x00\\x02\\xdf\\x08\\x02\\x00\\x…"
      ]
     },
     "metadata": {},
     "output_type": "display_data"
    }
   ],
   "source": [
    "fn = 'roi4'\n",
    "\n",
    "boundmask = data[fn]['mask']['bound']\n",
    "cellmask = data[fn]['mask']['cellmask']\n",
    "\n",
    "\n",
    "w_im = widgets.Image(value=Im2Bytes(showcellloc(boundmask, 0)), format='png')\n",
    "w_im.layout.max_width = '60%'\n",
    "w_im.layout.height = 'auto'\n",
    "\n",
    "\n",
    "im_events = Event()\n",
    "im_events.source = w_im\n",
    "im_events.watched_events = ['click']\n",
    "\n",
    "no_drag = Event(source=w_im, watched_events=['dragstart'], prevent_default_action = True)\n",
    "\n",
    "coordinates = widgets.Label('Click an image to see the click coordinates here')\n",
    "\n",
    "vbox = widgets.VBox([w_im, coordinates])\n",
    "\n",
    "def update_coords(event):\n",
    "    cell_id = findcellid(data[fn]['mask']['cellmask'], event['dataY'], event['dataX'])\n",
    "    coordinates.value = 'Clicked at ({}, {}). Cell_id = {}.'.format(event['dataX'], event['dataY'], cell_id)\n",
    "    w_im.value = Im2Bytes(showcellloc(boundmask, cell_id))\n",
    "\n",
    "im_events.on_dom_event(update_coords)\n",
    "\n",
    "display(vbox)"
   ]
  },
  {
   "cell_type": "code",
   "execution_count": null,
   "metadata": {},
   "outputs": [],
   "source": []
  }
 ],
 "metadata": {
  "interpreter": {
   "hash": "fc13e5a332e133da0e2c74cac34c7ed5ac908312e3b08b86139f217288f05397"
  },
  "kernelspec": {
   "display_name": "Python 3.8.8 64-bit ('base': conda)",
   "name": "python3"
  },
  "language_info": {
   "codemirror_mode": {
    "name": "ipython",
    "version": 3
   },
   "file_extension": ".py",
   "mimetype": "text/x-python",
   "name": "python",
   "nbconvert_exporter": "python",
   "pygments_lexer": "ipython3",
   "version": "3.8.8"
  },
  "orig_nbformat": 4
 },
 "nbformat": 4,
 "nbformat_minor": 2
}